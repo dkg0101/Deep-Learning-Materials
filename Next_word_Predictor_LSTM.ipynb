{
  "nbformat": 4,
  "nbformat_minor": 0,
  "metadata": {
    "colab": {
      "provenance": [],
      "gpuType": "T4"
    },
    "kernelspec": {
      "name": "python3",
      "display_name": "Python 3"
    },
    "language_info": {
      "name": "python"
    },
    "accelerator": "GPU"
  },
  "cells": [
    {
      "cell_type": "markdown",
      "source": [
        " **To get idea about how LSTM Works watch below video**"
      ],
      "metadata": {
        "id": "wqRywsnehGcK"
      }
    },
    {
      "cell_type": "code",
      "source": [
        "! pip install IPYNBrenderer\n",
        "from IPYNBrenderer import render_site,render_YouTube_video"
      ],
      "metadata": {
        "colab": {
          "base_uri": "https://localhost:8080/"
        },
        "id": "Zgbmlbs3c_OX",
        "outputId": "2196ffc1-b14e-4f68-a6eb-4e81c2d9ccb3"
      },
      "execution_count": 2,
      "outputs": [
        {
          "output_type": "stream",
          "name": "stdout",
          "text": [
            "Collecting IPYNBrenderer\n",
            "  Downloading IPYNBrenderer-0.0.3-py3-none-any.whl (4.7 kB)\n",
            "Collecting ensure==1.0.2 (from IPYNBrenderer)\n",
            "  Downloading ensure-1.0.2-py2.py3-none-any.whl (15 kB)\n",
            "Collecting py-youtube==1.1.7 (from IPYNBrenderer)\n",
            "  Downloading py_youtube-1.1.7-py3-none-any.whl (10 kB)\n",
            "Requirement already satisfied: six>=1.11.0 in /usr/local/lib/python3.10/dist-packages (from ensure==1.0.2->IPYNBrenderer) (1.16.0)\n",
            "Installing collected packages: py-youtube, ensure, IPYNBrenderer\n",
            "Successfully installed IPYNBrenderer-0.0.3 ensure-1.0.2 py-youtube-1.1.7\n"
          ]
        }
      ]
    },
    {
      "source": [
        "URL = \"https://www.youtube.com/watch?v=Akv3poqqwI4\""
      ],
      "cell_type": "code",
      "metadata": {
        "id": "gZjp17sFgt9Y"
      },
      "execution_count": 3,
      "outputs": []
    },
    {
      "source": [
        "render_YouTube_video(URL=URL)"
      ],
      "cell_type": "code",
      "metadata": {
        "colab": {
          "base_uri": "https://localhost:8080/",
          "height": 640
        },
        "id": "ClYCv0KXguqF",
        "outputId": "917357f9-cdc0-45ad-ad3d-63d9717c6fb1"
      },
      "execution_count": 4,
      "outputs": [
        {
          "output_type": "display_data",
          "data": {
            "text/plain": [
              "<IPython.core.display.HTML object>"
            ],
            "text/html": [
              "<iframe\n",
              "            width=\"780\" height=\"600\"\n",
              "            src=\"https://www.youtube.com/embed/Akv3poqqwI4?start=0\"\n",
              "            title=\"YouTube video player\"\n",
              "            frameborder=\"0\"\n",
              "            allow=\"accelerometer;\n",
              "            autoplay; clipboard-write;\n",
              "            encrypted-media; gyroscope;\n",
              "            picture-in-picture\" allowfullscreen>\n",
              "            </iframe>\n",
              "            "
            ]
          },
          "metadata": {}
        },
        {
          "output_type": "execute_result",
          "data": {
            "text/plain": [
              "'success'"
            ],
            "application/vnd.google.colaboratory.intrinsic+json": {
              "type": "string"
            }
          },
          "metadata": {},
          "execution_count": 4
        }
      ]
    },
    {
      "cell_type": "code",
      "source": [
        "# Import libraries\n",
        "import tensorflow as tf\n",
        "from tensorflow.keras.preprocessing.text import Tokenizer"
      ],
      "metadata": {
        "id": "GQUtSO_PZ352"
      },
      "execution_count": 5,
      "outputs": []
    },
    {
      "cell_type": "code",
      "execution_count": 6,
      "metadata": {
        "id": "BlbwUIPsSzVn"
      },
      "outputs": [],
      "source": [
        "# Take sampel data , I am using email templates\n",
        "\n",
        "cover_letters = \"\"\"EMAIL TEMPLATES to send Resume/ CV\n",
        "SWIPE LEFT TO CHECK IT OUT\n",
        "linkedin.com/in/v-parameswaran\n",
        "Dear [HR Manager's Name],\n",
        "I hope this email finds you well. I am writing to express my\n",
        "strong interest in the [Position Title] at [Company Name].\n",
        "Please find attached my resume for your review.\n",
        "With [mention relevant experience or skills], I believe I am\n",
        "well-suited for this role and can contribute to [Company\n",
        "Name]'s success. I am motivated, detail-oriented, and thrive\n",
        "in collaborative environments.\n",
        "I would welcome the opportunity to discuss my qualifications\n",
        "further and how I can contribute to [Company Name]. Please\n",
        "feel free to reach out to schedule an interview or request any\n",
        "additional information.\n",
        "Thank you for considering my application. I look forward to\n",
        "the possibility of joining [Company Name].\n",
        "Sincerely, [Your Name] [Your Contact Information]\n",
        "linkedin.com/in/v-parameswaran\n",
        "Template-1\n",
        "(Your name)\n",
        "Hi (Recipient's name),\n",
        "My name is (name) and I’m applying for the position of (job\n",
        "name). I have attached a copy of my resume with this email.\n",
        "I’ve worked in the industry for (X) years and have a\n",
        "considerable amount of transferable experience. I’ve read the\n",
        "job description and feel I have the skills and expertise to excel\n",
        "in the role.\n",
        "The role of (job name) is a huge opportunity in an incredible\n",
        "organization, and I am excited to apply.\n",
        "If you have any questions, please don’t hesitate to contact me\n",
        "(insert contact details). Can you confirm that you have\n",
        "received this email and let me know about the next steps in\n",
        "the process.\n",
        "Kind regards,\n",
        "linkedin.com/in/v-parameswaran\n",
        "Template-2\n",
        "Dear [HR Manager's Name],\n",
        "I hope this email finds you well. I am writing to apply for the\n",
        "[Position Title] at [Company Name] that I recently came\n",
        "across on [Job Board/Company Website].\n",
        "I am excited about the opportunity to join [Company Name]\n",
        "and contribute to its success. With [mention relevant\n",
        "experience or skills], I believe I possess the qualifications\n",
        "necessary to excel in this role.\n",
        "Please find attached my resume for your review. It provides\n",
        "further details on my professional background and\n",
        "accomplishments.\n",
        "I would welcome the opportunity to discuss my application\n",
        "further or participate in any upcoming interviews. Thank you\n",
        "for considering my candidacy.\n",
        "Sincerely,\n",
        "[Your Name]\n",
        "linkedin.com/in/v-parameswaran\n",
        "Template-3\n",
        "Dear [Hiring Manager's Name],\n",
        "I hope you're doing well. I wanted to check in on the status of\n",
        "my application for the [Position Title] at [Company Name]. I\n",
        "recently submitted my resume and cover letter and wanted to\n",
        "reiterate my interest in the role.\n",
        "I believe my qualifications align well with the requirements of\n",
        "the position, and I am excited about the opportunity to\n",
        "contribute to [Company Name]. If there is any additional\n",
        "information I can provide or if you need any further details,\n",
        "please let me know.\n",
        "Thank you for considering my application. I look forward to\n",
        "hearing from you soon.\n",
        "Sincerely, [Your Name]\n",
        "linkedin.com/in/v-parameswaran\"\"\""
      ]
    },
    {
      "cell_type": "code",
      "source": [
        "# Encode text data into number encoding using Tokenizer\n",
        "tokenizer= Tokenizer(oov_token='<Unknown>')\n",
        "tokenizer.fit_on_texts([cover_letters])"
      ],
      "metadata": {
        "id": "gKAv5iBAaPrk"
      },
      "execution_count": 7,
      "outputs": []
    },
    {
      "cell_type": "code",
      "source": [
        "# To get idea about which word has got which index\n",
        "tokenizer.word_index"
      ],
      "metadata": {
        "colab": {
          "base_uri": "https://localhost:8080/"
        },
        "id": "DKm1th16OtdN",
        "outputId": "6f6ef6d5-c4f4-4b0a-87bf-cf9ab6907708"
      },
      "execution_count": 8,
      "outputs": [
        {
          "output_type": "execute_result",
          "data": {
            "text/plain": [
              "{'<Unknown>': 1,\n",
              " 'i': 2,\n",
              " 'to': 3,\n",
              " 'the': 4,\n",
              " 'name': 5,\n",
              " 'in': 6,\n",
              " 'my': 7,\n",
              " 'and': 8,\n",
              " 'you': 9,\n",
              " 'for': 10,\n",
              " 'company': 11,\n",
              " 'am': 12,\n",
              " 'your': 13,\n",
              " 'of': 14,\n",
              " 'this': 15,\n",
              " 'email': 16,\n",
              " 'resume': 17,\n",
              " 'linkedin': 18,\n",
              " 'com': 19,\n",
              " 'v': 20,\n",
              " 'parameswaran': 21,\n",
              " 'well': 22,\n",
              " 'position': 23,\n",
              " 'please': 24,\n",
              " 'or': 25,\n",
              " 'role': 26,\n",
              " 'opportunity': 27,\n",
              " 'any': 28,\n",
              " 'have': 29,\n",
              " 'with': 30,\n",
              " 'can': 31,\n",
              " 'contribute': 32,\n",
              " 'further': 33,\n",
              " 'application': 34,\n",
              " 'job': 35,\n",
              " 'dear': 36,\n",
              " \"manager's\": 37,\n",
              " 'hope': 38,\n",
              " 'title': 39,\n",
              " 'at': 40,\n",
              " 'attached': 41,\n",
              " 'experience': 42,\n",
              " 'skills': 43,\n",
              " 'believe': 44,\n",
              " 'qualifications': 45,\n",
              " 'information': 46,\n",
              " 'thank': 47,\n",
              " 'considering': 48,\n",
              " 'sincerely': 49,\n",
              " 'contact': 50,\n",
              " 'template': 51,\n",
              " 'is': 52,\n",
              " 'a': 53,\n",
              " 'excited': 54,\n",
              " 'if': 55,\n",
              " 'me': 56,\n",
              " 'details': 57,\n",
              " 'about': 58,\n",
              " 'on': 59,\n",
              " 'check': 60,\n",
              " 'it': 61,\n",
              " 'out': 62,\n",
              " 'hr': 63,\n",
              " 'finds': 64,\n",
              " 'writing': 65,\n",
              " 'interest': 66,\n",
              " 'find': 67,\n",
              " 'review': 68,\n",
              " 'mention': 69,\n",
              " 'relevant': 70,\n",
              " 'success': 71,\n",
              " 'would': 72,\n",
              " 'welcome': 73,\n",
              " 'discuss': 74,\n",
              " 'feel': 75,\n",
              " 'an': 76,\n",
              " 'additional': 77,\n",
              " 'look': 78,\n",
              " 'forward': 79,\n",
              " 'i’ve': 80,\n",
              " 'excel': 81,\n",
              " 'apply': 82,\n",
              " 'that': 83,\n",
              " 'let': 84,\n",
              " 'know': 85,\n",
              " 'recently': 86,\n",
              " 'wanted': 87,\n",
              " 'templates': 88,\n",
              " 'send': 89,\n",
              " 'cv': 90,\n",
              " 'swipe': 91,\n",
              " 'left': 92,\n",
              " 'express': 93,\n",
              " 'strong': 94,\n",
              " 'suited': 95,\n",
              " \"'s\": 96,\n",
              " 'motivated': 97,\n",
              " 'detail': 98,\n",
              " 'oriented': 99,\n",
              " 'thrive': 100,\n",
              " 'collaborative': 101,\n",
              " 'environments': 102,\n",
              " 'how': 103,\n",
              " 'free': 104,\n",
              " 'reach': 105,\n",
              " 'schedule': 106,\n",
              " 'interview': 107,\n",
              " 'request': 108,\n",
              " 'possibility': 109,\n",
              " 'joining': 110,\n",
              " '1': 111,\n",
              " 'hi': 112,\n",
              " \"recipient's\": 113,\n",
              " 'i’m': 114,\n",
              " 'applying': 115,\n",
              " 'copy': 116,\n",
              " 'worked': 117,\n",
              " 'industry': 118,\n",
              " 'x': 119,\n",
              " 'years': 120,\n",
              " 'considerable': 121,\n",
              " 'amount': 122,\n",
              " 'transferable': 123,\n",
              " 'read': 124,\n",
              " 'description': 125,\n",
              " 'expertise': 126,\n",
              " 'huge': 127,\n",
              " 'incredible': 128,\n",
              " 'organization': 129,\n",
              " 'questions': 130,\n",
              " 'don’t': 131,\n",
              " 'hesitate': 132,\n",
              " 'insert': 133,\n",
              " 'confirm': 134,\n",
              " 'received': 135,\n",
              " 'next': 136,\n",
              " 'steps': 137,\n",
              " 'process': 138,\n",
              " 'kind': 139,\n",
              " 'regards': 140,\n",
              " '2': 141,\n",
              " 'came': 142,\n",
              " 'across': 143,\n",
              " 'board': 144,\n",
              " 'website': 145,\n",
              " 'join': 146,\n",
              " 'its': 147,\n",
              " 'possess': 148,\n",
              " 'necessary': 149,\n",
              " 'provides': 150,\n",
              " 'professional': 151,\n",
              " 'background': 152,\n",
              " 'accomplishments': 153,\n",
              " 'participate': 154,\n",
              " 'upcoming': 155,\n",
              " 'interviews': 156,\n",
              " 'candidacy': 157,\n",
              " '3': 158,\n",
              " 'hiring': 159,\n",
              " \"you're\": 160,\n",
              " 'doing': 161,\n",
              " 'status': 162,\n",
              " 'submitted': 163,\n",
              " 'cover': 164,\n",
              " 'letter': 165,\n",
              " 'reiterate': 166,\n",
              " 'align': 167,\n",
              " 'requirements': 168,\n",
              " 'there': 169,\n",
              " 'provide': 170,\n",
              " 'need': 171,\n",
              " 'hearing': 172,\n",
              " 'from': 173,\n",
              " 'soon': 174}"
            ]
          },
          "metadata": {},
          "execution_count": 8
        }
      ]
    },
    {
      "cell_type": "code",
      "source": [
        "# Now make the list of sentences separated by new line charecter \\n\n",
        "cover_letters.split('\\n')"
      ],
      "metadata": {
        "colab": {
          "base_uri": "https://localhost:8080/"
        },
        "id": "xR0im2MbI2Rh",
        "outputId": "0d0736b5-eb09-4d85-8e34-c8b6ba854429"
      },
      "execution_count": 9,
      "outputs": [
        {
          "output_type": "execute_result",
          "data": {
            "text/plain": [
              "['EMAIL TEMPLATES to send Resume/ CV',\n",
              " 'SWIPE LEFT TO CHECK IT OUT',\n",
              " 'linkedin.com/in/v-parameswaran',\n",
              " \"Dear [HR Manager's Name],\",\n",
              " 'I hope this email finds you well. I am writing to express my',\n",
              " 'strong interest in the [Position Title] at [Company Name].',\n",
              " 'Please find attached my resume for your review.',\n",
              " 'With [mention relevant experience or skills], I believe I am',\n",
              " 'well-suited for this role and can contribute to [Company',\n",
              " \"Name]'s success. I am motivated, detail-oriented, and thrive\",\n",
              " 'in collaborative environments.',\n",
              " 'I would welcome the opportunity to discuss my qualifications',\n",
              " 'further and how I can contribute to [Company Name]. Please',\n",
              " 'feel free to reach out to schedule an interview or request any',\n",
              " 'additional information.',\n",
              " 'Thank you for considering my application. I look forward to',\n",
              " 'the possibility of joining [Company Name].',\n",
              " 'Sincerely, [Your Name] [Your Contact Information]',\n",
              " 'linkedin.com/in/v-parameswaran',\n",
              " 'Template-1',\n",
              " '(Your name)',\n",
              " \"Hi (Recipient's name),\",\n",
              " 'My name is (name) and I’m applying for the position of (job',\n",
              " 'name). I have attached a copy of my resume with this email.',\n",
              " 'I’ve worked in the industry for (X) years and have a',\n",
              " 'considerable amount of transferable experience. I’ve read the',\n",
              " 'job description and feel I have the skills and expertise to excel',\n",
              " 'in the role.',\n",
              " 'The role of (job name) is a huge opportunity in an incredible',\n",
              " 'organization, and I am excited to apply.',\n",
              " 'If you have any questions, please don’t hesitate to contact me',\n",
              " '(insert contact details). Can you confirm that you have',\n",
              " 'received this email and let me know about the next steps in',\n",
              " 'the process.',\n",
              " 'Kind regards,',\n",
              " 'linkedin.com/in/v-parameswaran',\n",
              " 'Template-2',\n",
              " \"Dear [HR Manager's Name],\",\n",
              " 'I hope this email finds you well. I am writing to apply for the',\n",
              " '[Position Title] at [Company Name] that I recently came',\n",
              " 'across on [Job Board/Company Website].',\n",
              " 'I am excited about the opportunity to join [Company Name]',\n",
              " 'and contribute to its success. With [mention relevant',\n",
              " 'experience or skills], I believe I possess the qualifications',\n",
              " 'necessary to excel in this role.',\n",
              " 'Please find attached my resume for your review. It provides',\n",
              " 'further details on my professional background and',\n",
              " 'accomplishments.',\n",
              " 'I would welcome the opportunity to discuss my application',\n",
              " 'further or participate in any upcoming interviews. Thank you',\n",
              " 'for considering my candidacy.',\n",
              " 'Sincerely,',\n",
              " '[Your Name]',\n",
              " 'linkedin.com/in/v-parameswaran',\n",
              " 'Template-3',\n",
              " \"Dear [Hiring Manager's Name],\",\n",
              " \"I hope you're doing well. I wanted to check in on the status of\",\n",
              " 'my application for the [Position Title] at [Company Name]. I',\n",
              " 'recently submitted my resume and cover letter and wanted to',\n",
              " 'reiterate my interest in the role.',\n",
              " 'I believe my qualifications align well with the requirements of',\n",
              " 'the position, and I am excited about the opportunity to',\n",
              " 'contribute to [Company Name]. If there is any additional',\n",
              " 'information I can provide or if you need any further details,',\n",
              " 'please let me know.',\n",
              " 'Thank you for considering my application. I look forward to',\n",
              " 'hearing from you soon.',\n",
              " 'Sincerely, [Your Name]',\n",
              " 'linkedin.com/in/v-parameswaran']"
            ]
          },
          "metadata": {},
          "execution_count": 9
        }
      ]
    },
    {
      "cell_type": "code",
      "source": [
        "# Demo how sentence will look like after encoding\n",
        "tokenizer.texts_to_sequences( ['Thank you for considering my application. I look forward to'])"
      ],
      "metadata": {
        "colab": {
          "base_uri": "https://localhost:8080/"
        },
        "id": "mVGzt6DQbCjx",
        "outputId": "3d98c20e-8072-4239-86e0-36141384bfc8"
      },
      "execution_count": 10,
      "outputs": [
        {
          "output_type": "execute_result",
          "data": {
            "text/plain": [
              "[[47, 9, 10, 48, 7, 34, 2, 78, 79, 3]]"
            ]
          },
          "metadata": {},
          "execution_count": 10
        }
      ]
    },
    {
      "cell_type": "code",
      "source": [
        "# Convert each sentence into encoded form\n",
        "for sent in cover_letters.split('\\n'):\n",
        "  print(tokenizer.texts_to_sequences([sent])[0])"
      ],
      "metadata": {
        "colab": {
          "base_uri": "https://localhost:8080/"
        },
        "id": "zdCVJzwKajBR",
        "outputId": "9a31fb06-038e-4a5e-a84a-bcd337e88dd0"
      },
      "execution_count": 11,
      "outputs": [
        {
          "output_type": "stream",
          "name": "stdout",
          "text": [
            "[16, 88, 3, 89, 17, 90]\n",
            "[91, 92, 3, 60, 61, 62]\n",
            "[18, 19, 6, 20, 21]\n",
            "[36, 63, 37, 5]\n",
            "[2, 38, 15, 16, 64, 9, 22, 2, 12, 65, 3, 93, 7]\n",
            "[94, 66, 6, 4, 23, 39, 40, 11, 5]\n",
            "[24, 67, 41, 7, 17, 10, 13, 68]\n",
            "[30, 69, 70, 42, 25, 43, 2, 44, 2, 12]\n",
            "[22, 95, 10, 15, 26, 8, 31, 32, 3, 11]\n",
            "[5, 96, 71, 2, 12, 97, 98, 99, 8, 100]\n",
            "[6, 101, 102]\n",
            "[2, 72, 73, 4, 27, 3, 74, 7, 45]\n",
            "[33, 8, 103, 2, 31, 32, 3, 11, 5, 24]\n",
            "[75, 104, 3, 105, 62, 3, 106, 76, 107, 25, 108, 28]\n",
            "[77, 46]\n",
            "[47, 9, 10, 48, 7, 34, 2, 78, 79, 3]\n",
            "[4, 109, 14, 110, 11, 5]\n",
            "[49, 13, 5, 13, 50, 46]\n",
            "[18, 19, 6, 20, 21]\n",
            "[51, 111]\n",
            "[13, 5]\n",
            "[112, 113, 5]\n",
            "[7, 5, 52, 5, 8, 114, 115, 10, 4, 23, 14, 35]\n",
            "[5, 2, 29, 41, 53, 116, 14, 7, 17, 30, 15, 16]\n",
            "[80, 117, 6, 4, 118, 10, 119, 120, 8, 29, 53]\n",
            "[121, 122, 14, 123, 42, 80, 124, 4]\n",
            "[35, 125, 8, 75, 2, 29, 4, 43, 8, 126, 3, 81]\n",
            "[6, 4, 26]\n",
            "[4, 26, 14, 35, 5, 52, 53, 127, 27, 6, 76, 128]\n",
            "[129, 8, 2, 12, 54, 3, 82]\n",
            "[55, 9, 29, 28, 130, 24, 131, 132, 3, 50, 56]\n",
            "[133, 50, 57, 31, 9, 134, 83, 9, 29]\n",
            "[135, 15, 16, 8, 84, 56, 85, 58, 4, 136, 137, 6]\n",
            "[4, 138]\n",
            "[139, 140]\n",
            "[18, 19, 6, 20, 21]\n",
            "[51, 141]\n",
            "[36, 63, 37, 5]\n",
            "[2, 38, 15, 16, 64, 9, 22, 2, 12, 65, 3, 82, 10, 4]\n",
            "[23, 39, 40, 11, 5, 83, 2, 86, 142]\n",
            "[143, 59, 35, 144, 11, 145]\n",
            "[2, 12, 54, 58, 4, 27, 3, 146, 11, 5]\n",
            "[8, 32, 3, 147, 71, 30, 69, 70]\n",
            "[42, 25, 43, 2, 44, 2, 148, 4, 45]\n",
            "[149, 3, 81, 6, 15, 26]\n",
            "[24, 67, 41, 7, 17, 10, 13, 68, 61, 150]\n",
            "[33, 57, 59, 7, 151, 152, 8]\n",
            "[153]\n",
            "[2, 72, 73, 4, 27, 3, 74, 7, 34]\n",
            "[33, 25, 154, 6, 28, 155, 156, 47, 9]\n",
            "[10, 48, 7, 157]\n",
            "[49]\n",
            "[13, 5]\n",
            "[18, 19, 6, 20, 21]\n",
            "[51, 158]\n",
            "[36, 159, 37, 5]\n",
            "[2, 38, 160, 161, 22, 2, 87, 3, 60, 6, 59, 4, 162, 14]\n",
            "[7, 34, 10, 4, 23, 39, 40, 11, 5, 2]\n",
            "[86, 163, 7, 17, 8, 164, 165, 8, 87, 3]\n",
            "[166, 7, 66, 6, 4, 26]\n",
            "[2, 44, 7, 45, 167, 22, 30, 4, 168, 14]\n",
            "[4, 23, 8, 2, 12, 54, 58, 4, 27, 3]\n",
            "[32, 3, 11, 5, 55, 169, 52, 28, 77]\n",
            "[46, 2, 31, 170, 25, 55, 9, 171, 28, 33, 57]\n",
            "[24, 84, 56, 85]\n",
            "[47, 9, 10, 48, 7, 34, 2, 78, 79, 3]\n",
            "[172, 173, 9, 174]\n",
            "[49, 13, 5]\n",
            "[18, 19, 6, 20, 21]\n"
          ]
        }
      ]
    },
    {
      "cell_type": "markdown",
      "source": [
        "Now To make traning data,\n",
        "first we have create pairs of word so that we can treat them as X and y variables.\n",
        "Here we will treat last word as target variable\n",
        "\n",
        "eg. X=  Thank you for considering my application. I look forward #Input\n",
        "\n",
        "\n",
        "y = 'to' # OUtput"
      ],
      "metadata": {
        "id": "PVaLXUIoiiG9"
      }
    },
    {
      "cell_type": "code",
      "source": [
        "input_sequence = []\n",
        "for sent in cover_letters.split('\\n'):\n",
        "  tokenized_sentence = tokenizer.texts_to_sequences([sent])[0]\n",
        "\n",
        "  for i in range(1,len(tokenized_sentence)):\n",
        "    input_sequence.append(tokenized_sentence[:i+1])"
      ],
      "metadata": {
        "id": "FYJF8O4rJsRl"
      },
      "execution_count": 12,
      "outputs": []
    },
    {
      "cell_type": "code",
      "source": [
        "input_sequence"
      ],
      "metadata": {
        "colab": {
          "base_uri": "https://localhost:8080/"
        },
        "id": "5TbIvXoKK8ym",
        "outputId": "ebd46306-c426-4137-9c56-31e9f5a16378"
      },
      "execution_count": 13,
      "outputs": [
        {
          "output_type": "execute_result",
          "data": {
            "text/plain": [
              "[[16, 88],\n",
              " [16, 88, 3],\n",
              " [16, 88, 3, 89],\n",
              " [16, 88, 3, 89, 17],\n",
              " [16, 88, 3, 89, 17, 90],\n",
              " [91, 92],\n",
              " [91, 92, 3],\n",
              " [91, 92, 3, 60],\n",
              " [91, 92, 3, 60, 61],\n",
              " [91, 92, 3, 60, 61, 62],\n",
              " [18, 19],\n",
              " [18, 19, 6],\n",
              " [18, 19, 6, 20],\n",
              " [18, 19, 6, 20, 21],\n",
              " [36, 63],\n",
              " [36, 63, 37],\n",
              " [36, 63, 37, 5],\n",
              " [2, 38],\n",
              " [2, 38, 15],\n",
              " [2, 38, 15, 16],\n",
              " [2, 38, 15, 16, 64],\n",
              " [2, 38, 15, 16, 64, 9],\n",
              " [2, 38, 15, 16, 64, 9, 22],\n",
              " [2, 38, 15, 16, 64, 9, 22, 2],\n",
              " [2, 38, 15, 16, 64, 9, 22, 2, 12],\n",
              " [2, 38, 15, 16, 64, 9, 22, 2, 12, 65],\n",
              " [2, 38, 15, 16, 64, 9, 22, 2, 12, 65, 3],\n",
              " [2, 38, 15, 16, 64, 9, 22, 2, 12, 65, 3, 93],\n",
              " [2, 38, 15, 16, 64, 9, 22, 2, 12, 65, 3, 93, 7],\n",
              " [94, 66],\n",
              " [94, 66, 6],\n",
              " [94, 66, 6, 4],\n",
              " [94, 66, 6, 4, 23],\n",
              " [94, 66, 6, 4, 23, 39],\n",
              " [94, 66, 6, 4, 23, 39, 40],\n",
              " [94, 66, 6, 4, 23, 39, 40, 11],\n",
              " [94, 66, 6, 4, 23, 39, 40, 11, 5],\n",
              " [24, 67],\n",
              " [24, 67, 41],\n",
              " [24, 67, 41, 7],\n",
              " [24, 67, 41, 7, 17],\n",
              " [24, 67, 41, 7, 17, 10],\n",
              " [24, 67, 41, 7, 17, 10, 13],\n",
              " [24, 67, 41, 7, 17, 10, 13, 68],\n",
              " [30, 69],\n",
              " [30, 69, 70],\n",
              " [30, 69, 70, 42],\n",
              " [30, 69, 70, 42, 25],\n",
              " [30, 69, 70, 42, 25, 43],\n",
              " [30, 69, 70, 42, 25, 43, 2],\n",
              " [30, 69, 70, 42, 25, 43, 2, 44],\n",
              " [30, 69, 70, 42, 25, 43, 2, 44, 2],\n",
              " [30, 69, 70, 42, 25, 43, 2, 44, 2, 12],\n",
              " [22, 95],\n",
              " [22, 95, 10],\n",
              " [22, 95, 10, 15],\n",
              " [22, 95, 10, 15, 26],\n",
              " [22, 95, 10, 15, 26, 8],\n",
              " [22, 95, 10, 15, 26, 8, 31],\n",
              " [22, 95, 10, 15, 26, 8, 31, 32],\n",
              " [22, 95, 10, 15, 26, 8, 31, 32, 3],\n",
              " [22, 95, 10, 15, 26, 8, 31, 32, 3, 11],\n",
              " [5, 96],\n",
              " [5, 96, 71],\n",
              " [5, 96, 71, 2],\n",
              " [5, 96, 71, 2, 12],\n",
              " [5, 96, 71, 2, 12, 97],\n",
              " [5, 96, 71, 2, 12, 97, 98],\n",
              " [5, 96, 71, 2, 12, 97, 98, 99],\n",
              " [5, 96, 71, 2, 12, 97, 98, 99, 8],\n",
              " [5, 96, 71, 2, 12, 97, 98, 99, 8, 100],\n",
              " [6, 101],\n",
              " [6, 101, 102],\n",
              " [2, 72],\n",
              " [2, 72, 73],\n",
              " [2, 72, 73, 4],\n",
              " [2, 72, 73, 4, 27],\n",
              " [2, 72, 73, 4, 27, 3],\n",
              " [2, 72, 73, 4, 27, 3, 74],\n",
              " [2, 72, 73, 4, 27, 3, 74, 7],\n",
              " [2, 72, 73, 4, 27, 3, 74, 7, 45],\n",
              " [33, 8],\n",
              " [33, 8, 103],\n",
              " [33, 8, 103, 2],\n",
              " [33, 8, 103, 2, 31],\n",
              " [33, 8, 103, 2, 31, 32],\n",
              " [33, 8, 103, 2, 31, 32, 3],\n",
              " [33, 8, 103, 2, 31, 32, 3, 11],\n",
              " [33, 8, 103, 2, 31, 32, 3, 11, 5],\n",
              " [33, 8, 103, 2, 31, 32, 3, 11, 5, 24],\n",
              " [75, 104],\n",
              " [75, 104, 3],\n",
              " [75, 104, 3, 105],\n",
              " [75, 104, 3, 105, 62],\n",
              " [75, 104, 3, 105, 62, 3],\n",
              " [75, 104, 3, 105, 62, 3, 106],\n",
              " [75, 104, 3, 105, 62, 3, 106, 76],\n",
              " [75, 104, 3, 105, 62, 3, 106, 76, 107],\n",
              " [75, 104, 3, 105, 62, 3, 106, 76, 107, 25],\n",
              " [75, 104, 3, 105, 62, 3, 106, 76, 107, 25, 108],\n",
              " [75, 104, 3, 105, 62, 3, 106, 76, 107, 25, 108, 28],\n",
              " [77, 46],\n",
              " [47, 9],\n",
              " [47, 9, 10],\n",
              " [47, 9, 10, 48],\n",
              " [47, 9, 10, 48, 7],\n",
              " [47, 9, 10, 48, 7, 34],\n",
              " [47, 9, 10, 48, 7, 34, 2],\n",
              " [47, 9, 10, 48, 7, 34, 2, 78],\n",
              " [47, 9, 10, 48, 7, 34, 2, 78, 79],\n",
              " [47, 9, 10, 48, 7, 34, 2, 78, 79, 3],\n",
              " [4, 109],\n",
              " [4, 109, 14],\n",
              " [4, 109, 14, 110],\n",
              " [4, 109, 14, 110, 11],\n",
              " [4, 109, 14, 110, 11, 5],\n",
              " [49, 13],\n",
              " [49, 13, 5],\n",
              " [49, 13, 5, 13],\n",
              " [49, 13, 5, 13, 50],\n",
              " [49, 13, 5, 13, 50, 46],\n",
              " [18, 19],\n",
              " [18, 19, 6],\n",
              " [18, 19, 6, 20],\n",
              " [18, 19, 6, 20, 21],\n",
              " [51, 111],\n",
              " [13, 5],\n",
              " [112, 113],\n",
              " [112, 113, 5],\n",
              " [7, 5],\n",
              " [7, 5, 52],\n",
              " [7, 5, 52, 5],\n",
              " [7, 5, 52, 5, 8],\n",
              " [7, 5, 52, 5, 8, 114],\n",
              " [7, 5, 52, 5, 8, 114, 115],\n",
              " [7, 5, 52, 5, 8, 114, 115, 10],\n",
              " [7, 5, 52, 5, 8, 114, 115, 10, 4],\n",
              " [7, 5, 52, 5, 8, 114, 115, 10, 4, 23],\n",
              " [7, 5, 52, 5, 8, 114, 115, 10, 4, 23, 14],\n",
              " [7, 5, 52, 5, 8, 114, 115, 10, 4, 23, 14, 35],\n",
              " [5, 2],\n",
              " [5, 2, 29],\n",
              " [5, 2, 29, 41],\n",
              " [5, 2, 29, 41, 53],\n",
              " [5, 2, 29, 41, 53, 116],\n",
              " [5, 2, 29, 41, 53, 116, 14],\n",
              " [5, 2, 29, 41, 53, 116, 14, 7],\n",
              " [5, 2, 29, 41, 53, 116, 14, 7, 17],\n",
              " [5, 2, 29, 41, 53, 116, 14, 7, 17, 30],\n",
              " [5, 2, 29, 41, 53, 116, 14, 7, 17, 30, 15],\n",
              " [5, 2, 29, 41, 53, 116, 14, 7, 17, 30, 15, 16],\n",
              " [80, 117],\n",
              " [80, 117, 6],\n",
              " [80, 117, 6, 4],\n",
              " [80, 117, 6, 4, 118],\n",
              " [80, 117, 6, 4, 118, 10],\n",
              " [80, 117, 6, 4, 118, 10, 119],\n",
              " [80, 117, 6, 4, 118, 10, 119, 120],\n",
              " [80, 117, 6, 4, 118, 10, 119, 120, 8],\n",
              " [80, 117, 6, 4, 118, 10, 119, 120, 8, 29],\n",
              " [80, 117, 6, 4, 118, 10, 119, 120, 8, 29, 53],\n",
              " [121, 122],\n",
              " [121, 122, 14],\n",
              " [121, 122, 14, 123],\n",
              " [121, 122, 14, 123, 42],\n",
              " [121, 122, 14, 123, 42, 80],\n",
              " [121, 122, 14, 123, 42, 80, 124],\n",
              " [121, 122, 14, 123, 42, 80, 124, 4],\n",
              " [35, 125],\n",
              " [35, 125, 8],\n",
              " [35, 125, 8, 75],\n",
              " [35, 125, 8, 75, 2],\n",
              " [35, 125, 8, 75, 2, 29],\n",
              " [35, 125, 8, 75, 2, 29, 4],\n",
              " [35, 125, 8, 75, 2, 29, 4, 43],\n",
              " [35, 125, 8, 75, 2, 29, 4, 43, 8],\n",
              " [35, 125, 8, 75, 2, 29, 4, 43, 8, 126],\n",
              " [35, 125, 8, 75, 2, 29, 4, 43, 8, 126, 3],\n",
              " [35, 125, 8, 75, 2, 29, 4, 43, 8, 126, 3, 81],\n",
              " [6, 4],\n",
              " [6, 4, 26],\n",
              " [4, 26],\n",
              " [4, 26, 14],\n",
              " [4, 26, 14, 35],\n",
              " [4, 26, 14, 35, 5],\n",
              " [4, 26, 14, 35, 5, 52],\n",
              " [4, 26, 14, 35, 5, 52, 53],\n",
              " [4, 26, 14, 35, 5, 52, 53, 127],\n",
              " [4, 26, 14, 35, 5, 52, 53, 127, 27],\n",
              " [4, 26, 14, 35, 5, 52, 53, 127, 27, 6],\n",
              " [4, 26, 14, 35, 5, 52, 53, 127, 27, 6, 76],\n",
              " [4, 26, 14, 35, 5, 52, 53, 127, 27, 6, 76, 128],\n",
              " [129, 8],\n",
              " [129, 8, 2],\n",
              " [129, 8, 2, 12],\n",
              " [129, 8, 2, 12, 54],\n",
              " [129, 8, 2, 12, 54, 3],\n",
              " [129, 8, 2, 12, 54, 3, 82],\n",
              " [55, 9],\n",
              " [55, 9, 29],\n",
              " [55, 9, 29, 28],\n",
              " [55, 9, 29, 28, 130],\n",
              " [55, 9, 29, 28, 130, 24],\n",
              " [55, 9, 29, 28, 130, 24, 131],\n",
              " [55, 9, 29, 28, 130, 24, 131, 132],\n",
              " [55, 9, 29, 28, 130, 24, 131, 132, 3],\n",
              " [55, 9, 29, 28, 130, 24, 131, 132, 3, 50],\n",
              " [55, 9, 29, 28, 130, 24, 131, 132, 3, 50, 56],\n",
              " [133, 50],\n",
              " [133, 50, 57],\n",
              " [133, 50, 57, 31],\n",
              " [133, 50, 57, 31, 9],\n",
              " [133, 50, 57, 31, 9, 134],\n",
              " [133, 50, 57, 31, 9, 134, 83],\n",
              " [133, 50, 57, 31, 9, 134, 83, 9],\n",
              " [133, 50, 57, 31, 9, 134, 83, 9, 29],\n",
              " [135, 15],\n",
              " [135, 15, 16],\n",
              " [135, 15, 16, 8],\n",
              " [135, 15, 16, 8, 84],\n",
              " [135, 15, 16, 8, 84, 56],\n",
              " [135, 15, 16, 8, 84, 56, 85],\n",
              " [135, 15, 16, 8, 84, 56, 85, 58],\n",
              " [135, 15, 16, 8, 84, 56, 85, 58, 4],\n",
              " [135, 15, 16, 8, 84, 56, 85, 58, 4, 136],\n",
              " [135, 15, 16, 8, 84, 56, 85, 58, 4, 136, 137],\n",
              " [135, 15, 16, 8, 84, 56, 85, 58, 4, 136, 137, 6],\n",
              " [4, 138],\n",
              " [139, 140],\n",
              " [18, 19],\n",
              " [18, 19, 6],\n",
              " [18, 19, 6, 20],\n",
              " [18, 19, 6, 20, 21],\n",
              " [51, 141],\n",
              " [36, 63],\n",
              " [36, 63, 37],\n",
              " [36, 63, 37, 5],\n",
              " [2, 38],\n",
              " [2, 38, 15],\n",
              " [2, 38, 15, 16],\n",
              " [2, 38, 15, 16, 64],\n",
              " [2, 38, 15, 16, 64, 9],\n",
              " [2, 38, 15, 16, 64, 9, 22],\n",
              " [2, 38, 15, 16, 64, 9, 22, 2],\n",
              " [2, 38, 15, 16, 64, 9, 22, 2, 12],\n",
              " [2, 38, 15, 16, 64, 9, 22, 2, 12, 65],\n",
              " [2, 38, 15, 16, 64, 9, 22, 2, 12, 65, 3],\n",
              " [2, 38, 15, 16, 64, 9, 22, 2, 12, 65, 3, 82],\n",
              " [2, 38, 15, 16, 64, 9, 22, 2, 12, 65, 3, 82, 10],\n",
              " [2, 38, 15, 16, 64, 9, 22, 2, 12, 65, 3, 82, 10, 4],\n",
              " [23, 39],\n",
              " [23, 39, 40],\n",
              " [23, 39, 40, 11],\n",
              " [23, 39, 40, 11, 5],\n",
              " [23, 39, 40, 11, 5, 83],\n",
              " [23, 39, 40, 11, 5, 83, 2],\n",
              " [23, 39, 40, 11, 5, 83, 2, 86],\n",
              " [23, 39, 40, 11, 5, 83, 2, 86, 142],\n",
              " [143, 59],\n",
              " [143, 59, 35],\n",
              " [143, 59, 35, 144],\n",
              " [143, 59, 35, 144, 11],\n",
              " [143, 59, 35, 144, 11, 145],\n",
              " [2, 12],\n",
              " [2, 12, 54],\n",
              " [2, 12, 54, 58],\n",
              " [2, 12, 54, 58, 4],\n",
              " [2, 12, 54, 58, 4, 27],\n",
              " [2, 12, 54, 58, 4, 27, 3],\n",
              " [2, 12, 54, 58, 4, 27, 3, 146],\n",
              " [2, 12, 54, 58, 4, 27, 3, 146, 11],\n",
              " [2, 12, 54, 58, 4, 27, 3, 146, 11, 5],\n",
              " [8, 32],\n",
              " [8, 32, 3],\n",
              " [8, 32, 3, 147],\n",
              " [8, 32, 3, 147, 71],\n",
              " [8, 32, 3, 147, 71, 30],\n",
              " [8, 32, 3, 147, 71, 30, 69],\n",
              " [8, 32, 3, 147, 71, 30, 69, 70],\n",
              " [42, 25],\n",
              " [42, 25, 43],\n",
              " [42, 25, 43, 2],\n",
              " [42, 25, 43, 2, 44],\n",
              " [42, 25, 43, 2, 44, 2],\n",
              " [42, 25, 43, 2, 44, 2, 148],\n",
              " [42, 25, 43, 2, 44, 2, 148, 4],\n",
              " [42, 25, 43, 2, 44, 2, 148, 4, 45],\n",
              " [149, 3],\n",
              " [149, 3, 81],\n",
              " [149, 3, 81, 6],\n",
              " [149, 3, 81, 6, 15],\n",
              " [149, 3, 81, 6, 15, 26],\n",
              " [24, 67],\n",
              " [24, 67, 41],\n",
              " [24, 67, 41, 7],\n",
              " [24, 67, 41, 7, 17],\n",
              " [24, 67, 41, 7, 17, 10],\n",
              " [24, 67, 41, 7, 17, 10, 13],\n",
              " [24, 67, 41, 7, 17, 10, 13, 68],\n",
              " [24, 67, 41, 7, 17, 10, 13, 68, 61],\n",
              " [24, 67, 41, 7, 17, 10, 13, 68, 61, 150],\n",
              " [33, 57],\n",
              " [33, 57, 59],\n",
              " [33, 57, 59, 7],\n",
              " [33, 57, 59, 7, 151],\n",
              " [33, 57, 59, 7, 151, 152],\n",
              " [33, 57, 59, 7, 151, 152, 8],\n",
              " [2, 72],\n",
              " [2, 72, 73],\n",
              " [2, 72, 73, 4],\n",
              " [2, 72, 73, 4, 27],\n",
              " [2, 72, 73, 4, 27, 3],\n",
              " [2, 72, 73, 4, 27, 3, 74],\n",
              " [2, 72, 73, 4, 27, 3, 74, 7],\n",
              " [2, 72, 73, 4, 27, 3, 74, 7, 34],\n",
              " [33, 25],\n",
              " [33, 25, 154],\n",
              " [33, 25, 154, 6],\n",
              " [33, 25, 154, 6, 28],\n",
              " [33, 25, 154, 6, 28, 155],\n",
              " [33, 25, 154, 6, 28, 155, 156],\n",
              " [33, 25, 154, 6, 28, 155, 156, 47],\n",
              " [33, 25, 154, 6, 28, 155, 156, 47, 9],\n",
              " [10, 48],\n",
              " [10, 48, 7],\n",
              " [10, 48, 7, 157],\n",
              " [13, 5],\n",
              " [18, 19],\n",
              " [18, 19, 6],\n",
              " [18, 19, 6, 20],\n",
              " [18, 19, 6, 20, 21],\n",
              " [51, 158],\n",
              " [36, 159],\n",
              " [36, 159, 37],\n",
              " [36, 159, 37, 5],\n",
              " [2, 38],\n",
              " [2, 38, 160],\n",
              " [2, 38, 160, 161],\n",
              " [2, 38, 160, 161, 22],\n",
              " [2, 38, 160, 161, 22, 2],\n",
              " [2, 38, 160, 161, 22, 2, 87],\n",
              " [2, 38, 160, 161, 22, 2, 87, 3],\n",
              " [2, 38, 160, 161, 22, 2, 87, 3, 60],\n",
              " [2, 38, 160, 161, 22, 2, 87, 3, 60, 6],\n",
              " [2, 38, 160, 161, 22, 2, 87, 3, 60, 6, 59],\n",
              " [2, 38, 160, 161, 22, 2, 87, 3, 60, 6, 59, 4],\n",
              " [2, 38, 160, 161, 22, 2, 87, 3, 60, 6, 59, 4, 162],\n",
              " [2, 38, 160, 161, 22, 2, 87, 3, 60, 6, 59, 4, 162, 14],\n",
              " [7, 34],\n",
              " [7, 34, 10],\n",
              " [7, 34, 10, 4],\n",
              " [7, 34, 10, 4, 23],\n",
              " [7, 34, 10, 4, 23, 39],\n",
              " [7, 34, 10, 4, 23, 39, 40],\n",
              " [7, 34, 10, 4, 23, 39, 40, 11],\n",
              " [7, 34, 10, 4, 23, 39, 40, 11, 5],\n",
              " [7, 34, 10, 4, 23, 39, 40, 11, 5, 2],\n",
              " [86, 163],\n",
              " [86, 163, 7],\n",
              " [86, 163, 7, 17],\n",
              " [86, 163, 7, 17, 8],\n",
              " [86, 163, 7, 17, 8, 164],\n",
              " [86, 163, 7, 17, 8, 164, 165],\n",
              " [86, 163, 7, 17, 8, 164, 165, 8],\n",
              " [86, 163, 7, 17, 8, 164, 165, 8, 87],\n",
              " [86, 163, 7, 17, 8, 164, 165, 8, 87, 3],\n",
              " [166, 7],\n",
              " [166, 7, 66],\n",
              " [166, 7, 66, 6],\n",
              " [166, 7, 66, 6, 4],\n",
              " [166, 7, 66, 6, 4, 26],\n",
              " [2, 44],\n",
              " [2, 44, 7],\n",
              " [2, 44, 7, 45],\n",
              " [2, 44, 7, 45, 167],\n",
              " [2, 44, 7, 45, 167, 22],\n",
              " [2, 44, 7, 45, 167, 22, 30],\n",
              " [2, 44, 7, 45, 167, 22, 30, 4],\n",
              " [2, 44, 7, 45, 167, 22, 30, 4, 168],\n",
              " [2, 44, 7, 45, 167, 22, 30, 4, 168, 14],\n",
              " [4, 23],\n",
              " [4, 23, 8],\n",
              " [4, 23, 8, 2],\n",
              " [4, 23, 8, 2, 12],\n",
              " [4, 23, 8, 2, 12, 54],\n",
              " [4, 23, 8, 2, 12, 54, 58],\n",
              " [4, 23, 8, 2, 12, 54, 58, 4],\n",
              " [4, 23, 8, 2, 12, 54, 58, 4, 27],\n",
              " [4, 23, 8, 2, 12, 54, 58, 4, 27, 3],\n",
              " [32, 3],\n",
              " [32, 3, 11],\n",
              " [32, 3, 11, 5],\n",
              " [32, 3, 11, 5, 55],\n",
              " [32, 3, 11, 5, 55, 169],\n",
              " [32, 3, 11, 5, 55, 169, 52],\n",
              " [32, 3, 11, 5, 55, 169, 52, 28],\n",
              " [32, 3, 11, 5, 55, 169, 52, 28, 77],\n",
              " [46, 2],\n",
              " [46, 2, 31],\n",
              " [46, 2, 31, 170],\n",
              " [46, 2, 31, 170, 25],\n",
              " [46, 2, 31, 170, 25, 55],\n",
              " [46, 2, 31, 170, 25, 55, 9],\n",
              " [46, 2, 31, 170, 25, 55, 9, 171],\n",
              " [46, 2, 31, 170, 25, 55, 9, 171, 28],\n",
              " [46, 2, 31, 170, 25, 55, 9, 171, 28, 33],\n",
              " [46, 2, 31, 170, 25, 55, 9, 171, 28, 33, 57],\n",
              " [24, 84],\n",
              " [24, 84, 56],\n",
              " [24, 84, 56, 85],\n",
              " [47, 9],\n",
              " [47, 9, 10],\n",
              " [47, 9, 10, 48],\n",
              " [47, 9, 10, 48, 7],\n",
              " [47, 9, 10, 48, 7, 34],\n",
              " [47, 9, 10, 48, 7, 34, 2],\n",
              " [47, 9, 10, 48, 7, 34, 2, 78],\n",
              " [47, 9, 10, 48, 7, 34, 2, 78, 79],\n",
              " [47, 9, 10, 48, 7, 34, 2, 78, 79, 3],\n",
              " [172, 173],\n",
              " [172, 173, 9],\n",
              " [172, 173, 9, 174],\n",
              " [49, 13],\n",
              " [49, 13, 5],\n",
              " [18, 19],\n",
              " [18, 19, 6],\n",
              " [18, 19, 6, 20],\n",
              " [18, 19, 6, 20, 21]]"
            ]
          },
          "metadata": {},
          "execution_count": 13
        }
      ]
    },
    {
      "cell_type": "markdown",
      "source": [
        "2. Padding for making length of each sentence equal."
      ],
      "metadata": {
        "id": "UlWSXAV7jeIc"
      }
    },
    {
      "cell_type": "code",
      "source": [
        "#Getting length of longest sentence\n",
        "max_len = max([len(sent) for sent in input_sequence])\n",
        "max_len"
      ],
      "metadata": {
        "colab": {
          "base_uri": "https://localhost:8080/"
        },
        "id": "TqwVo4aqK-Pt",
        "outputId": "8f27918b-8dec-405f-cd5a-97fa19d7fc55"
      },
      "execution_count": 14,
      "outputs": [
        {
          "output_type": "execute_result",
          "data": {
            "text/plain": [
              "14"
            ]
          },
          "metadata": {},
          "execution_count": 14
        }
      ]
    },
    {
      "cell_type": "code",
      "source": [
        "from tensorflow.keras.preprocessing.sequence import pad_sequences\n",
        "padded_input_sequence = pad_sequences(input_sequence,maxlen= max_len,padding='pre')"
      ],
      "metadata": {
        "id": "0QYEzI4-MI8d"
      },
      "execution_count": 15,
      "outputs": []
    },
    {
      "cell_type": "code",
      "source": [
        "X = padded_input_sequence[:,:-1]\n",
        "y = padded_input_sequence[:,-1]"
      ],
      "metadata": {
        "id": "W2t2u_FNMzRd"
      },
      "execution_count": 16,
      "outputs": []
    },
    {
      "cell_type": "code",
      "source": [
        "X[0].shape"
      ],
      "metadata": {
        "colab": {
          "base_uri": "https://localhost:8080/"
        },
        "id": "rJTTMbIUNGJU",
        "outputId": "115628de-348e-4f2a-e3dd-e48854d9f40c"
      },
      "execution_count": 17,
      "outputs": [
        {
          "output_type": "execute_result",
          "data": {
            "text/plain": [
              "(13,)"
            ]
          },
          "metadata": {},
          "execution_count": 17
        }
      ]
    },
    {
      "cell_type": "code",
      "source": [
        "y[0]"
      ],
      "metadata": {
        "colab": {
          "base_uri": "https://localhost:8080/"
        },
        "id": "8wRVCCfSNaYM",
        "outputId": "bc67b726-6d9a-4273-fc95-2ae2a3e9467a"
      },
      "execution_count": 18,
      "outputs": [
        {
          "output_type": "execute_result",
          "data": {
            "text/plain": [
              "88"
            ]
          },
          "metadata": {},
          "execution_count": 18
        }
      ]
    },
    {
      "cell_type": "code",
      "source": [
        "y.shape"
      ],
      "metadata": {
        "colab": {
          "base_uri": "https://localhost:8080/"
        },
        "id": "1k948FSSNbW_",
        "outputId": "15c2fc32-0141-405c-8ece-ea9b6f879c45"
      },
      "execution_count": 19,
      "outputs": [
        {
          "output_type": "execute_result",
          "data": {
            "text/plain": [
              "(428,)"
            ]
          },
          "metadata": {},
          "execution_count": 19
        }
      ]
    },
    {
      "cell_type": "code",
      "source": [
        "# One hot encoding of output column\n",
        "from tensorflow.keras.utils import to_categorical\n",
        "y = to_categorical(y,num_classes=175)"
      ],
      "metadata": {
        "id": "51RzhZITOWfs"
      },
      "execution_count": 20,
      "outputs": []
    },
    {
      "cell_type": "code",
      "source": [
        "y.shape"
      ],
      "metadata": {
        "colab": {
          "base_uri": "https://localhost:8080/"
        },
        "id": "ScYK4jH-PgRM",
        "outputId": "9cdcbd7f-2f74-4b7b-d5d0-8adaf6233539"
      },
      "execution_count": 21,
      "outputs": [
        {
          "output_type": "execute_result",
          "data": {
            "text/plain": [
              "(428, 175)"
            ]
          },
          "metadata": {},
          "execution_count": 21
        }
      ]
    },
    {
      "cell_type": "markdown",
      "source": [
        "3. Building LSTM model with\n",
        "\n",
        "\n",
        "*   First layer as embedding layer where each word is represented by 100 dimensional vector\n",
        "*   Second layer as LSTM layer with size of 80 neurons\n",
        "* Last layer as output layer with 175 nerons for 175 unique words\n",
        "\n"
      ],
      "metadata": {
        "id": "phNJGI3DjpVN"
      }
    },
    {
      "cell_type": "code",
      "source": [
        "#Architechture\n",
        "from tensorflow.keras.models import Sequential\n",
        "from tensorflow.keras.layers import Embedding,Dense,LSTM"
      ],
      "metadata": {
        "id": "BNsCIeqfPh5M"
      },
      "execution_count": 22,
      "outputs": []
    },
    {
      "cell_type": "code",
      "source": [
        "LAYERS = [\n",
        "    Embedding(input_dim=175,output_dim=100,input_length=13),\n",
        "    LSTM(80),\n",
        "    Dense(175,activation='softmax')\n",
        "\n",
        "]"
      ],
      "metadata": {
        "id": "B39q-QhLP_Ks"
      },
      "execution_count": 23,
      "outputs": []
    },
    {
      "cell_type": "code",
      "source": [
        "model = Sequential(LAYERS)"
      ],
      "metadata": {
        "id": "1CPS46avRqXO"
      },
      "execution_count": 24,
      "outputs": []
    },
    {
      "cell_type": "code",
      "source": [
        "model.compile(loss='categorical_crossentropy',optimizer='adam',metrics=['accuracy'])"
      ],
      "metadata": {
        "id": "B78Len-sRwId"
      },
      "execution_count": 25,
      "outputs": []
    },
    {
      "cell_type": "code",
      "source": [
        "model.summary()"
      ],
      "metadata": {
        "colab": {
          "base_uri": "https://localhost:8080/"
        },
        "id": "UGUf8Vw5R89c",
        "outputId": "070ef461-1726-40fd-aaa6-dfb9a84ebc22"
      },
      "execution_count": 26,
      "outputs": [
        {
          "output_type": "stream",
          "name": "stdout",
          "text": [
            "Model: \"sequential\"\n",
            "_________________________________________________________________\n",
            " Layer (type)                Output Shape              Param #   \n",
            "=================================================================\n",
            " embedding (Embedding)       (None, 13, 100)           17500     \n",
            "                                                                 \n",
            " lstm (LSTM)                 (None, 80)                57920     \n",
            "                                                                 \n",
            " dense (Dense)               (None, 175)               14175     \n",
            "                                                                 \n",
            "=================================================================\n",
            "Total params: 89595 (349.98 KB)\n",
            "Trainable params: 89595 (349.98 KB)\n",
            "Non-trainable params: 0 (0.00 Byte)\n",
            "_________________________________________________________________\n"
          ]
        }
      ]
    },
    {
      "cell_type": "markdown",
      "source": [
        "4. Model training and prediction\n"
      ],
      "metadata": {
        "id": "_LiQsD5lkvV1"
      }
    },
    {
      "cell_type": "code",
      "source": [
        "# Model training will happen in following way!\n",
        "render_site('https://packaged-media.redd.it/afzlbpt2ncg81/pb/m2-res_1080p.mp4?m=DASHPlaylist.mpd&v=1&e=1706958000&s=24c811c4d5c0c3b67cac49f031079078d07d72f3#t=0')"
      ],
      "metadata": {
        "colab": {
          "base_uri": "https://localhost:8080/",
          "height": 640
        },
        "id": "PQ6e3rR0lyx9",
        "outputId": "69c9d36a-8924-446d-98a6-a49c7c254358"
      },
      "execution_count": 31,
      "outputs": [
        {
          "output_type": "display_data",
          "data": {
            "text/plain": [
              "<IPython.lib.display.IFrame at 0x7bf7ab959330>"
            ],
            "text/html": [
              "\n",
              "        <iframe\n",
              "            width=\"100%\"\n",
              "            height=\"600\"\n",
              "            src=\"https://packaged-media.redd.it/afzlbpt2ncg81/pb/m2-res_1080p.mp4?m=DASHPlaylist.mpd&v=1&e=1706958000&s=24c811c4d5c0c3b67cac49f031079078d07d72f3#t=0\"\n",
              "            frameborder=\"0\"\n",
              "            allowfullscreen\n",
              "            \n",
              "        ></iframe>\n",
              "        "
            ]
          },
          "metadata": {}
        },
        {
          "output_type": "execute_result",
          "data": {
            "text/plain": [
              "'success'"
            ],
            "application/vnd.google.colaboratory.intrinsic+json": {
              "type": "string"
            }
          },
          "metadata": {},
          "execution_count": 31
        }
      ]
    },
    {
      "cell_type": "code",
      "source": [
        "from keras.callbacks import EarlyStopping\n",
        "early_stop = EarlyStopping(patience=5,monitor='accuracy',restore_best_weights=True)\n",
        "model.fit(X,y,epochs=150,callbacks=early_stop)"
      ],
      "metadata": {
        "colab": {
          "base_uri": "https://localhost:8080/"
        },
        "id": "4cYztv54R-F0",
        "outputId": "8465b482-b26e-4644-fae4-dde2cdd72b15"
      },
      "execution_count": 27,
      "outputs": [
        {
          "output_type": "stream",
          "name": "stdout",
          "text": [
            "Epoch 1/150\n",
            "14/14 [==============================] - 5s 122ms/step - loss: 5.1539 - accuracy: 0.0350\n",
            "Epoch 2/150\n",
            "14/14 [==============================] - 2s 149ms/step - loss: 5.0030 - accuracy: 0.0514\n",
            "Epoch 3/150\n",
            "14/14 [==============================] - 1s 89ms/step - loss: 4.7278 - accuracy: 0.0514\n",
            "Epoch 4/150\n",
            "14/14 [==============================] - 2s 121ms/step - loss: 4.6390 - accuracy: 0.0397\n",
            "Epoch 5/150\n",
            "14/14 [==============================] - 1s 51ms/step - loss: 4.6065 - accuracy: 0.0584\n",
            "Epoch 6/150\n",
            "14/14 [==============================] - 0s 27ms/step - loss: 4.5871 - accuracy: 0.0514\n",
            "Epoch 7/150\n",
            "14/14 [==============================] - 0s 28ms/step - loss: 4.5629 - accuracy: 0.0631\n",
            "Epoch 8/150\n",
            "14/14 [==============================] - 0s 16ms/step - loss: 4.5306 - accuracy: 0.0888\n",
            "Epoch 9/150\n",
            "14/14 [==============================] - 0s 5ms/step - loss: 4.4934 - accuracy: 0.1005\n",
            "Epoch 10/150\n",
            "14/14 [==============================] - 0s 16ms/step - loss: 4.4375 - accuracy: 0.0935\n",
            "Epoch 11/150\n",
            "14/14 [==============================] - 0s 5ms/step - loss: 4.3705 - accuracy: 0.1028\n",
            "Epoch 12/150\n",
            "14/14 [==============================] - 0s 30ms/step - loss: 4.2988 - accuracy: 0.1215\n",
            "Epoch 13/150\n",
            "14/14 [==============================] - 1s 41ms/step - loss: 4.1866 - accuracy: 0.1285\n",
            "Epoch 14/150\n",
            "14/14 [==============================] - 0s 7ms/step - loss: 4.0832 - accuracy: 0.1425\n",
            "Epoch 15/150\n",
            "14/14 [==============================] - 0s 24ms/step - loss: 3.9723 - accuracy: 0.1589\n",
            "Epoch 16/150\n",
            "14/14 [==============================] - 0s 8ms/step - loss: 3.8542 - accuracy: 0.1706\n",
            "Epoch 17/150\n",
            "14/14 [==============================] - 0s 25ms/step - loss: 3.7257 - accuracy: 0.2009\n",
            "Epoch 18/150\n",
            "14/14 [==============================] - 0s 7ms/step - loss: 3.6248 - accuracy: 0.2313\n",
            "Epoch 19/150\n",
            "14/14 [==============================] - 0s 8ms/step - loss: 3.4941 - accuracy: 0.2710\n",
            "Epoch 20/150\n",
            "14/14 [==============================] - 0s 21ms/step - loss: 3.3715 - accuracy: 0.2734\n",
            "Epoch 21/150\n",
            "14/14 [==============================] - 0s 28ms/step - loss: 3.2558 - accuracy: 0.3178\n",
            "Epoch 22/150\n",
            "14/14 [==============================] - 0s 17ms/step - loss: 3.1438 - accuracy: 0.3388\n",
            "Epoch 23/150\n",
            "14/14 [==============================] - 0s 16ms/step - loss: 3.0272 - accuracy: 0.3505\n",
            "Epoch 24/150\n",
            "14/14 [==============================] - 0s 16ms/step - loss: 2.9324 - accuracy: 0.3528\n",
            "Epoch 25/150\n",
            "14/14 [==============================] - 0s 17ms/step - loss: 2.8260 - accuracy: 0.3762\n",
            "Epoch 26/150\n",
            "14/14 [==============================] - 0s 5ms/step - loss: 2.7184 - accuracy: 0.4112\n",
            "Epoch 27/150\n",
            "14/14 [==============================] - 0s 5ms/step - loss: 2.6143 - accuracy: 0.4229\n",
            "Epoch 28/150\n",
            "14/14 [==============================] - 0s 5ms/step - loss: 2.5101 - accuracy: 0.4650\n",
            "Epoch 29/150\n",
            "14/14 [==============================] - 0s 17ms/step - loss: 2.4234 - accuracy: 0.4836\n",
            "Epoch 30/150\n",
            "14/14 [==============================] - 0s 5ms/step - loss: 2.3232 - accuracy: 0.5187\n",
            "Epoch 31/150\n",
            "14/14 [==============================] - 0s 16ms/step - loss: 2.2345 - accuracy: 0.5350\n",
            "Epoch 32/150\n",
            "14/14 [==============================] - 0s 28ms/step - loss: 2.1533 - accuracy: 0.5537\n",
            "Epoch 33/150\n",
            "14/14 [==============================] - 0s 6ms/step - loss: 2.0647 - accuracy: 0.5748\n",
            "Epoch 34/150\n",
            "14/14 [==============================] - 0s 5ms/step - loss: 1.9817 - accuracy: 0.6051\n",
            "Epoch 35/150\n",
            "14/14 [==============================] - 0s 5ms/step - loss: 1.9082 - accuracy: 0.6262\n",
            "Epoch 36/150\n",
            "14/14 [==============================] - 0s 17ms/step - loss: 1.8263 - accuracy: 0.6425\n",
            "Epoch 37/150\n",
            "14/14 [==============================] - 0s 5ms/step - loss: 1.7552 - accuracy: 0.6542\n",
            "Epoch 38/150\n",
            "14/14 [==============================] - 0s 19ms/step - loss: 1.6874 - accuracy: 0.6752\n",
            "Epoch 39/150\n",
            "14/14 [==============================] - 0s 6ms/step - loss: 1.6204 - accuracy: 0.6963\n",
            "Epoch 40/150\n",
            "14/14 [==============================] - 0s 5ms/step - loss: 1.5551 - accuracy: 0.7150\n",
            "Epoch 41/150\n",
            "14/14 [==============================] - 0s 5ms/step - loss: 1.4912 - accuracy: 0.7243\n",
            "Epoch 42/150\n",
            "14/14 [==============================] - 0s 5ms/step - loss: 1.4352 - accuracy: 0.7477\n",
            "Epoch 43/150\n",
            "14/14 [==============================] - 0s 5ms/step - loss: 1.3761 - accuracy: 0.7523\n",
            "Epoch 44/150\n",
            "14/14 [==============================] - 0s 5ms/step - loss: 1.3196 - accuracy: 0.7780\n",
            "Epoch 45/150\n",
            "14/14 [==============================] - 0s 5ms/step - loss: 1.2741 - accuracy: 0.7827\n",
            "Epoch 46/150\n",
            "14/14 [==============================] - 0s 5ms/step - loss: 1.2236 - accuracy: 0.7991\n",
            "Epoch 47/150\n",
            "14/14 [==============================] - 0s 5ms/step - loss: 1.1723 - accuracy: 0.8201\n",
            "Epoch 48/150\n",
            "14/14 [==============================] - 0s 5ms/step - loss: 1.1283 - accuracy: 0.8224\n",
            "Epoch 49/150\n",
            "14/14 [==============================] - 0s 5ms/step - loss: 1.0857 - accuracy: 0.8201\n",
            "Epoch 50/150\n",
            "14/14 [==============================] - 0s 5ms/step - loss: 1.0455 - accuracy: 0.8318\n",
            "Epoch 51/150\n",
            "14/14 [==============================] - 0s 5ms/step - loss: 1.0026 - accuracy: 0.8341\n",
            "Epoch 52/150\n",
            "14/14 [==============================] - 0s 16ms/step - loss: 0.9612 - accuracy: 0.8411\n",
            "Epoch 53/150\n",
            "14/14 [==============================] - 0s 17ms/step - loss: 0.9264 - accuracy: 0.8481\n",
            "Epoch 54/150\n",
            "14/14 [==============================] - 0s 5ms/step - loss: 0.8895 - accuracy: 0.8645\n",
            "Epoch 55/150\n",
            "14/14 [==============================] - 0s 5ms/step - loss: 0.8572 - accuracy: 0.8668\n",
            "Epoch 56/150\n",
            "14/14 [==============================] - 0s 5ms/step - loss: 0.8234 - accuracy: 0.8715\n",
            "Epoch 57/150\n",
            "14/14 [==============================] - 0s 17ms/step - loss: 0.7934 - accuracy: 0.8715\n",
            "Epoch 58/150\n",
            "14/14 [==============================] - 0s 6ms/step - loss: 0.7644 - accuracy: 0.8762\n",
            "Epoch 59/150\n",
            "14/14 [==============================] - 0s 5ms/step - loss: 0.7388 - accuracy: 0.8879\n",
            "Epoch 60/150\n",
            "14/14 [==============================] - 0s 5ms/step - loss: 0.7109 - accuracy: 0.9019\n",
            "Epoch 61/150\n",
            "14/14 [==============================] - 0s 5ms/step - loss: 0.6858 - accuracy: 0.8972\n",
            "Epoch 62/150\n",
            "14/14 [==============================] - 0s 5ms/step - loss: 0.6605 - accuracy: 0.9042\n",
            "Epoch 63/150\n",
            "14/14 [==============================] - 0s 5ms/step - loss: 0.6370 - accuracy: 0.9112\n",
            "Epoch 64/150\n",
            "14/14 [==============================] - 0s 5ms/step - loss: 0.6148 - accuracy: 0.9159\n",
            "Epoch 65/150\n",
            "14/14 [==============================] - 0s 5ms/step - loss: 0.5952 - accuracy: 0.9206\n",
            "Epoch 66/150\n",
            "14/14 [==============================] - 0s 5ms/step - loss: 0.5750 - accuracy: 0.9252\n",
            "Epoch 67/150\n",
            "14/14 [==============================] - 0s 5ms/step - loss: 0.5599 - accuracy: 0.9299\n",
            "Epoch 68/150\n",
            "14/14 [==============================] - 0s 5ms/step - loss: 0.5399 - accuracy: 0.9322\n",
            "Epoch 69/150\n",
            "14/14 [==============================] - 0s 5ms/step - loss: 0.5228 - accuracy: 0.9299\n",
            "Epoch 70/150\n",
            "14/14 [==============================] - 0s 18ms/step - loss: 0.5051 - accuracy: 0.9346\n",
            "Epoch 71/150\n",
            "14/14 [==============================] - 0s 5ms/step - loss: 0.4877 - accuracy: 0.9322\n",
            "Epoch 72/150\n",
            "14/14 [==============================] - 0s 16ms/step - loss: 0.4736 - accuracy: 0.9369\n",
            "Epoch 73/150\n",
            "14/14 [==============================] - 0s 6ms/step - loss: 0.4592 - accuracy: 0.9393\n",
            "Epoch 74/150\n",
            "14/14 [==============================] - 0s 5ms/step - loss: 0.4460 - accuracy: 0.9393\n",
            "Epoch 75/150\n",
            "14/14 [==============================] - 0s 5ms/step - loss: 0.4335 - accuracy: 0.9369\n",
            "Epoch 76/150\n",
            "14/14 [==============================] - 0s 5ms/step - loss: 0.4205 - accuracy: 0.9369\n",
            "Epoch 77/150\n",
            "14/14 [==============================] - 0s 5ms/step - loss: 0.4087 - accuracy: 0.9416\n",
            "Epoch 78/150\n",
            "14/14 [==============================] - 0s 5ms/step - loss: 0.3982 - accuracy: 0.9439\n",
            "Epoch 79/150\n",
            "14/14 [==============================] - 0s 5ms/step - loss: 0.3868 - accuracy: 0.9439\n",
            "Epoch 80/150\n",
            "14/14 [==============================] - 0s 6ms/step - loss: 0.3763 - accuracy: 0.9463\n",
            "Epoch 81/150\n",
            "14/14 [==============================] - 0s 5ms/step - loss: 0.3697 - accuracy: 0.9486\n",
            "Epoch 82/150\n",
            "14/14 [==============================] - 0s 5ms/step - loss: 0.3593 - accuracy: 0.9509\n",
            "Epoch 83/150\n",
            "14/14 [==============================] - 0s 5ms/step - loss: 0.3492 - accuracy: 0.9509\n",
            "Epoch 84/150\n",
            "14/14 [==============================] - 0s 16ms/step - loss: 0.3405 - accuracy: 0.9509\n",
            "Epoch 85/150\n",
            "14/14 [==============================] - 0s 5ms/step - loss: 0.3320 - accuracy: 0.9486\n",
            "Epoch 86/150\n",
            "14/14 [==============================] - 0s 5ms/step - loss: 0.3244 - accuracy: 0.9533\n",
            "Epoch 87/150\n",
            "14/14 [==============================] - 0s 5ms/step - loss: 0.3184 - accuracy: 0.9533\n",
            "Epoch 88/150\n",
            "14/14 [==============================] - 0s 6ms/step - loss: 0.3093 - accuracy: 0.9463\n",
            "Epoch 89/150\n",
            "14/14 [==============================] - 0s 7ms/step - loss: 0.3030 - accuracy: 0.9556\n",
            "Epoch 90/150\n",
            "14/14 [==============================] - 0s 27ms/step - loss: 0.2975 - accuracy: 0.9556\n",
            "Epoch 91/150\n",
            "14/14 [==============================] - 0s 6ms/step - loss: 0.2892 - accuracy: 0.9509\n",
            "Epoch 92/150\n",
            "14/14 [==============================] - 0s 5ms/step - loss: 0.2840 - accuracy: 0.9556\n",
            "Epoch 93/150\n",
            "14/14 [==============================] - 0s 5ms/step - loss: 0.2802 - accuracy: 0.9486\n",
            "Epoch 94/150\n",
            "14/14 [==============================] - 0s 6ms/step - loss: 0.2726 - accuracy: 0.9439\n"
          ]
        },
        {
          "output_type": "execute_result",
          "data": {
            "text/plain": [
              "<keras.src.callbacks.History at 0x7bf7f9d555a0>"
            ]
          },
          "metadata": {},
          "execution_count": 27
        }
      ]
    },
    {
      "cell_type": "code",
      "source": [
        "# making prediction for single word\n",
        "text = 'please'\n",
        "\n",
        "#Tokenize\n",
        "token_text = tokenizer.texts_to_sequences([text])[0]\n",
        "\n",
        "#Padding\n",
        "input_token_txt = pad_sequences([token_text],maxlen=13,padding='pre')\n",
        "\n",
        "input_token_txt"
      ],
      "metadata": {
        "colab": {
          "base_uri": "https://localhost:8080/"
        },
        "id": "s66VpBXAUP30",
        "outputId": "195489d8-7492-4b6e-e7a5-73a6a0b15106"
      },
      "execution_count": 28,
      "outputs": [
        {
          "output_type": "execute_result",
          "data": {
            "text/plain": [
              "array([[ 0,  0,  0,  0,  0,  0,  0,  0,  0,  0,  0,  0, 24]], dtype=int32)"
            ]
          },
          "metadata": {},
          "execution_count": 28
        }
      ]
    },
    {
      "cell_type": "code",
      "source": [
        "import numpy as np\n",
        "#Predicted word\n",
        "predicted = model.predict(input_token_txt)\n",
        "predicted.shape\n",
        "output = tokenizer.index_word[np.argmax(model.predict(input_token_txt))]\n",
        "output"
      ],
      "metadata": {
        "colab": {
          "base_uri": "https://localhost:8080/",
          "height": 72
        },
        "id": "sgO7aXRTWN2j",
        "outputId": "ef07bce9-7fcf-400b-a3d9-e385332ca4b0"
      },
      "execution_count": 29,
      "outputs": [
        {
          "output_type": "stream",
          "name": "stdout",
          "text": [
            "1/1 [==============================] - 0s 362ms/step\n",
            "1/1 [==============================] - 0s 18ms/step\n"
          ]
        },
        {
          "output_type": "execute_result",
          "data": {
            "text/plain": [
              "'find'"
            ],
            "application/vnd.google.colaboratory.intrinsic+json": {
              "type": "string"
            }
          },
          "metadata": {},
          "execution_count": 29
        }
      ]
    },
    {
      "cell_type": "code",
      "source": [
        "# Predicting next 7 words for given text\n",
        "text = 'If you have '\n",
        "for i in range(7):\n",
        "  #tokenize\n",
        "  token_text = tokenizer.texts_to_sequences([text])[0]\n",
        "\n",
        "  #padding\n",
        "  padded_token_text = pad_sequences([token_text],maxlen=13,padding='pre')\n",
        "\n",
        "  #word index\n",
        "  indx = np.argmax(model.predict(padded_token_text))\n",
        "\n",
        "  for word,index in tokenizer.word_index.items():\n",
        "    if index ==indx:\n",
        "      text = text + \" \" + word\n",
        "      print(text)"
      ],
      "metadata": {
        "colab": {
          "base_uri": "https://localhost:8080/"
        },
        "id": "r1h9HsQ2W148",
        "outputId": "11f6dc97-08be-4070-e5ce-91191a15bddd"
      },
      "execution_count": 30,
      "outputs": [
        {
          "output_type": "stream",
          "name": "stdout",
          "text": [
            "1/1 [==============================] - 0s 16ms/step\n",
            "If you have  any\n",
            "1/1 [==============================] - 0s 17ms/step\n",
            "If you have  any questions\n",
            "1/1 [==============================] - 0s 17ms/step\n",
            "If you have  any questions please\n",
            "1/1 [==============================] - 0s 16ms/step\n",
            "If you have  any questions please don’t\n",
            "1/1 [==============================] - 0s 16ms/step\n",
            "If you have  any questions please don’t hesitate\n",
            "1/1 [==============================] - 0s 16ms/step\n",
            "If you have  any questions please don’t hesitate to\n",
            "1/1 [==============================] - 0s 17ms/step\n",
            "If you have  any questions please don’t hesitate to contact\n"
          ]
        }
      ]
    },
    {
      "cell_type": "markdown",
      "source": [
        "**You train your own model using custom data**"
      ],
      "metadata": {
        "id": "2OtqFfM9loyh"
      }
    },
    {
      "cell_type": "code",
      "source": [],
      "metadata": {
        "id": "FY1jwk_mluTW"
      },
      "execution_count": null,
      "outputs": []
    }
  ]
}